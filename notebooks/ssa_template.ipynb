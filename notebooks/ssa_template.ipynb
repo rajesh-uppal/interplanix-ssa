{
 "cells": [
  {
   "cell_type": "code",
   "execution_count": null,
   "id": "016d9b22",
   "metadata": {},
   "outputs": [],
   "source": [
    "import requests\n",
    "from datetime import datetime, timezone\n",
    "\n",
    "# 1️⃣ Use today's UTC date in the filename\n",
    "today_str = datetime.now(timezone.utc).strftime(\"%Y%m%d\")\n",
    "tle_file = f'tle_data_{today_str}.txt'\n",
    "\n",
    "# 2️⃣ CelesTrak's TLE for \"Active Satellites\" (updated and working)\n",
    "url = 'https://celestrak.com/NORAD/elements/gp.php?GROUP=active&FORMAT=tle'\n",
    "\n",
    "# 3️⃣ Fetch and save TLE data\n",
    "response = requests.get(url)\n",
    "if response.status_code == 200:\n",
    "    with open(tle_file, 'w', encoding='utf-8') as f:\n",
    "        f.write(response.text)\n",
    "    print(f\"✅ TLE data downloaded and saved to: {tle_file}\")\n",
    "else:\n",
    "    print(f\"❌ Failed to download TLE data. Status code: {response.status_code}\")\n"
   ]
  },
  {
   "cell_type": "code",
   "execution_count": null,
   "id": "2addb4ac",
   "metadata": {},
   "outputs": [],
   "source": [
    "# Step 2: Load saved TLE file and compute satellite geolocations\n",
    "\n",
    "from skyfield.api import load, wgs84\n",
    "from datetime import datetime, timezone\n",
    "import pandas as pd\n",
    "import os\n",
    "\n",
    "# 1️⃣ Generate today's TLE file name\n",
    "today_str = datetime.now(timezone.utc).strftime(\"%Y%m%d\")\n",
    "tle_file = f'tle_data_{today_str}.txt'\n",
    "\n",
    "# 2️⃣ Check if the TLE file exists\n",
    "if not os.path.exists(tle_file):\n",
    "    raise FileNotFoundError(f\"TLE file {tle_file} not found. Please run Step 1 first.\")\n",
    "\n",
    "# 3️⃣ Load satellites from saved TLE file\n",
    "satellites = load.tle_file(tle_file)\n",
    "print(f\"📦 Loaded {len(satellites)} satellites\")\n",
    "\n",
    "# 4️⃣ Get current UTC time as Skyfield time object\n",
    "ts = load.timescale()\n",
    "now = ts.now()\n",
    "\n",
    "# 5️⃣ Compute ground subpoints for first N satellites\n",
    "records = []\n",
    "for sat in satellites[:20]:  # Limit to first 20 satellites for testing\n",
    "    try:\n",
    "        geocentric = sat.at(now)\n",
    "        subpoint = wgs84.subpoint(geocentric)\n",
    "\n",
    "        records.append({\n",
    "            'name': sat.name,\n",
    "            'latitude': subpoint.latitude.degrees,\n",
    "            'longitude': subpoint.longitude.degrees,\n",
    "            'altitude_km': subpoint.elevation.km,\n",
    "            'dist_from_equator': abs(subpoint.latitude.degrees)\n",
    "        })\n",
    "    except Exception as e:\n",
    "        print(f\"⚠️ Skipping {sat.name} due to error: {e}\")\n",
    "\n",
    "# 6️⃣ Create DataFrame\n",
    "df = pd.DataFrame(records)\n",
    "\n",
    "# 7️⃣ Print sample data\n",
    "print(\"📊 Sample satellite data:\")\n",
    "print(df.head())\n"
   ]
  },
  {
   "cell_type": "code",
   "execution_count": null,
   "id": "15c1f8d4",
   "metadata": {},
   "outputs": [],
   "source": [
    "# Step 3: Compute Satellite Position Features (Lat, Lon, Altitude)\n",
    "\n",
    "from skyfield.api import wgs84\n",
    "from datetime import datetime, timezone\n",
    "\n",
    "def compute_satellite_features(satellites, ts):\n",
    "    \"\"\"\n",
    "    Computes geodetic features (lat, lon, altitude) for each satellite.\n",
    "    Parameters:\n",
    "        satellites: list of skyfield EarthSatellite objects\n",
    "        ts: Skyfield TimeScale object\n",
    "    Returns:\n",
    "        DataFrame with satellite name, latitude, longitude, altitude_km, distance from equator\n",
    "    \"\"\"\n",
    "    now = ts.now()  # ✅ Must use Skyfield Time object\n",
    "    data = []\n",
    "\n",
    "    for sat in satellites:\n",
    "        try:\n",
    "            geocentric = sat.at(now)  # This requires a Time object\n",
    "            subpoint = wgs84.subpoint(geocentric)\n",
    "            lat = subpoint.latitude.degrees\n",
    "            lon = subpoint.longitude.degrees\n",
    "            alt = subpoint.elevation.km\n",
    "            dist_from_equator = abs(lat)\n",
    "\n",
    "            data.append({\n",
    "                'name': sat.name,\n",
    "                'latitude': lat,\n",
    "                'longitude': lon,\n",
    "                'altitude_km': alt,\n",
    "                'dist_from_equator': dist_from_equator\n",
    "            })\n",
    "        except Exception as e:\n",
    "            print(f\"⚠️ Failed for {sat.name}: {e}\")\n",
    "\n",
    "    df = pd.DataFrame(data)\n",
    "    return df\n",
    "\n",
    "# ✅ Usage Example:\n",
    "df_features = compute_satellite_features(satellites, ts)\n",
    "print(\"📊 Sample satellite features:\")\n",
    "print(df_features.head())\n"
   ]
  },
  {
   "cell_type": "code",
   "execution_count": null,
   "id": "faa49553",
   "metadata": {},
   "outputs": [],
   "source": [
    "# Step 4: Classify Risk Levels Based on Satellite Features\n",
    "\n",
    "def classify_risk_levels(df):\n",
    "    \"\"\"\n",
    "    Adds a 'risk_level' column based on distance from equator.\n",
    "    Thresholds:\n",
    "        - Low: <= 10 degrees\n",
    "        - Medium: 10–50 degrees\n",
    "        - High: > 50 degrees\n",
    "    Parameters:\n",
    "        df: DataFrame with satellite features (including 'dist_from_equator')\n",
    "    Returns:\n",
    "        Updated DataFrame with a new 'risk_level' column\n",
    "    \"\"\"\n",
    "    def risk_category(dist):\n",
    "        if dist <= 10:\n",
    "            return 'Low'\n",
    "        elif dist <= 50:\n",
    "            return 'Medium'\n",
    "        else:\n",
    "            return 'High'\n",
    "\n",
    "    df['risk_level'] = df['dist_from_equator'].apply(risk_category)\n",
    "    return df\n",
    "\n",
    "# ✅ Apply risk classification to satellite features\n",
    "df_features = classify_risk_levels(df_features)\n",
    "\n",
    "print(\"🛰️ Satellite features with risk levels:\")\n",
    "print(df_features[['name', 'latitude', 'longitude', 'altitude_km', 'risk_level']].head())\n"
   ]
  },
  {
   "cell_type": "markdown",
   "id": "8bfd0ea9",
   "metadata": {},
   "source": [
    "### 🚨 Risk Level Classification Based on Distance from Equator\n",
    "\n",
    "This section assigns a `risk_level` to each satellite using its distance from the equator (in degrees of latitude). This is used as a proxy to assess potential conjunction risk or exposure to debris and traffic.\n",
    "\n",
    "**Thresholds:**\n",
    "- **Low Risk** (≤ 10°): Equatorial or near-equatorial orbits. Lower orbital traffic.\n",
    "- **Medium Risk** (10°–50°): Moderately inclined orbits. Moderate intersection probability.\n",
    "- **High Risk** (> 50°): Polar or sun-synchronous orbits. Highest chance of orbital crossings.\n",
    "\n",
    "> 🔍 Note: This is a basic heuristic. It can later be improved by integrating actual debris maps, relative velocities, or orbital crossings.\n"
   ]
  },
  {
   "cell_type": "code",
   "execution_count": 32,
   "id": "05f55bd5",
   "metadata": {},
   "outputs": [
    {
     "data": {
      "application/vnd.plotly.v1+json": {
       "config": {
        "plotlyServerURL": "https://plot.ly"
       },
       "data": [
        {
         "lat": {
          "bdata": "XidKbGizM0D8j15xLn1TQAJj2hmYny3A6vgIHbt1SsBd4q/g4NxDQJmAuzmudUfAkvAAslMFKkAGXIT8Hcd8P34lgl7Imj/AbAcqH6f5PUAjCsVe8vYyQDWJUwSUnFLABDkjBE6bUEA3/78+4wlMwOldU3kJykRAJwHzUV6KnL9HLXbAbxHsv2WfBDLCDyzArsYcBOZpTkD6Ot06AZRFwFN03Dqkdy3AtOUGVXBVKMAOPgiPkEpCwKrnUIhO2kDAp61cyne2Q8BmbXYqd8kkwGx82Em/FT9AIwpcxf8AJsBNEZ7rKzhEQOq1C8sOGhvApZVuzxiXREC+olkc+3FJQFESvMgukBhAbB9OICGMRcC3EPwkdFGBP2VoPl4ZWzBAaWAT9g9JScAQtBDEQTFDQJKb8lNuiTTAFPKnbPguQ8B5Nb/2pqwewFjjv5W2wUTAOFE9IXxpUsBOj32QbAdIwOkpSRX1DUPAFyNaeeKnKcAifX9N1JNFQGadTN7M4Og/zt/27QKMIkAn2IAmoYIyQA==",
          "dtype": "f8"
         },
         "lon": {
          "bdata": "pF3anFhFScDFdVxhnl1MQLC5hzld+mVAlkIXm3jcQcChlV/0VLAeQAh9Cdm+yGTAGWKFVykrZcB7AIONEJ9gwMwj7j3zJVtA2rcsvM5iREBGS4b6jc5TwAPkUlsoGVdA9VHge+LxYkBYu/oV7tFQwN5uTTr+QVfAczzwKRI/U8Adf/0y46I0QCd05HnOXDJAkLmxTueLT8DxuMNgzyguQEc3hJP9DGRAI0lNKkeVRkDuOj7Uc79IwDkyCgbtRmbAbYR2cfbiVkCAh8/6MbouwJR9zXFTmGFA7g5VrB6MO0BHZJhstEgnQLOfW5k541ZAC6Tmf6U4WMAxjwk3oqgwQOsoJDPVvFNAqnfiuXzDZcDzjwahxb1UQDcB2II/MFxAdu4T9oKKI0C8rHN9i8tIwCLSrVRUHlRAVH1X2LYcXMD5zvLWQqxQwHq8jq8qBVNAOKT9+z8hU0DqtkO7atpRQArNu8y3rWHA8cLPujbVW0CE3y71jzVgwM81YbaZimJAtFRZW7JEVMCTsZvcO3ZZwA==",
          "dtype": "f8"
         },
         "marker": {
          "color": [
           "orange",
           "red",
           "orange",
           "red",
           "orange",
           "orange",
           "orange",
           "green",
           "orange",
           "orange",
           "orange",
           "red",
           "red",
           "red",
           "orange",
           "green",
           "green",
           "orange",
           "red",
           "orange",
           "orange",
           "orange",
           "orange",
           "orange",
           "orange",
           "orange",
           "orange",
           "orange",
           "orange",
           "green",
           "orange",
           "red",
           "green",
           "orange",
           "green",
           "orange",
           "red",
           "orange",
           "orange",
           "orange",
           "green",
           "orange",
           "red",
           "orange",
           "orange",
           "orange",
           "orange",
           "green",
           "green",
           "orange"
          ],
          "line": {
           "color": "black",
           "width": 0.5
          },
          "opacity": 0.8,
          "size": 6
         },
         "mode": "markers+text",
         "text": [
          "STARLINK-4519<br>Risk: Medium",
          "ICEYE-X48<br>Risk: High",
          "STARLINK-11357 [DTC]<br>Risk: Medium",
          "STARLINK-11087 [DTC]<br>Risk: High",
          "STARLINK-32644<br>Risk: Medium",
          "YUNYAO-1 46<br>Risk: Medium",
          "BLUEWALKER-3<br>Risk: Medium",
          "GALAXY 33 (G-33)<br>Risk: Low",
          "IRIDIUM 147<br>Risk: Medium",
          "SHIYAN-4 (SY-4)<br>Risk: Medium",
          "2025-009AY<br>Risk: Medium",
          "JILIN-1 05<br>Risk: High",
          "DONGPO 04<br>Risk: High",
          "2023-081N<br>Risk: High",
          "STARLINK-5881<br>Risk: Medium",
          "QUETZSAT 1<br>Risk: Low",
          "LUCH (OLYMP-K 1)<br>Risk: Low",
          "STARLINK-30286<br>Risk: Medium",
          "STARLINK-5594<br>Risk: High",
          "STARLINK-6351<br>Risk: Medium",
          "STARLINK-2592<br>Risk: Medium",
          "YAOGAN-36 04B<br>Risk: Medium",
          "STARLINK-6163<br>Risk: Medium",
          "ICEYE-X47<br>Risk: Medium",
          "UMBRA-08<br>Risk: Medium",
          "QIANFAN-69<br>Risk: Medium",
          "STARLINK-4719<br>Risk: Medium",
          "STARLINK-5844<br>Risk: Medium",
          "STARLINK-30200<br>Risk: Medium",
          "ONEWEB-0631<br>Risk: Low",
          "STARLINK-33789<br>Risk: Medium",
          "CSG-2<br>Risk: High",
          "ICEYE-X2<br>Risk: Low",
          "STARLINK-11414 [DTC]<br>Risk: Medium",
          "GSAT-30<br>Risk: Low",
          "STARLINK-31174<br>Risk: Medium",
          "STARLINK-2416<br>Risk: High",
          "STARLINK-2015<br>Risk: Medium",
          "STARLINK-1132<br>Risk: Medium",
          "STARLINK-32264<br>Risk: Medium",
          "STARLINK-32421<br>Risk: Low",
          "STARLINK-33936<br>Risk: Medium",
          "EDISON-1<br>Risk: High",
          "STARLINK-33600<br>Risk: Medium",
          "STARLINK-4514<br>Risk: Medium",
          "STARLINK-34296<br>Risk: Medium",
          "STARLINK-11522 [DTC]<br>Risk: Medium",
          "GAOFEN-13 02<br>Risk: Low",
          "STARLINK-2542<br>Risk: Low",
          "STARLINK-30829<br>Risk: Medium"
         ],
         "textfont": {
          "color": "black",
          "size": 8
         },
         "textposition": "top center",
         "type": "scattergeo"
        }
       ],
       "layout": {
        "geo": {
         "landcolor": "beige",
         "oceancolor": "lightblue",
         "projection": {
          "type": "orthographic"
         },
         "showcoastlines": true,
         "showframe": false,
         "showland": true,
         "showocean": true
        },
        "template": {
         "data": {
          "bar": [
           {
            "error_x": {
             "color": "#2a3f5f"
            },
            "error_y": {
             "color": "#2a3f5f"
            },
            "marker": {
             "line": {
              "color": "#E5ECF6",
              "width": 0.5
             },
             "pattern": {
              "fillmode": "overlay",
              "size": 10,
              "solidity": 0.2
             }
            },
            "type": "bar"
           }
          ],
          "barpolar": [
           {
            "marker": {
             "line": {
              "color": "#E5ECF6",
              "width": 0.5
             },
             "pattern": {
              "fillmode": "overlay",
              "size": 10,
              "solidity": 0.2
             }
            },
            "type": "barpolar"
           }
          ],
          "carpet": [
           {
            "aaxis": {
             "endlinecolor": "#2a3f5f",
             "gridcolor": "white",
             "linecolor": "white",
             "minorgridcolor": "white",
             "startlinecolor": "#2a3f5f"
            },
            "baxis": {
             "endlinecolor": "#2a3f5f",
             "gridcolor": "white",
             "linecolor": "white",
             "minorgridcolor": "white",
             "startlinecolor": "#2a3f5f"
            },
            "type": "carpet"
           }
          ],
          "choropleth": [
           {
            "colorbar": {
             "outlinewidth": 0,
             "ticks": ""
            },
            "type": "choropleth"
           }
          ],
          "contour": [
           {
            "colorbar": {
             "outlinewidth": 0,
             "ticks": ""
            },
            "colorscale": [
             [
              0,
              "#0d0887"
             ],
             [
              0.1111111111111111,
              "#46039f"
             ],
             [
              0.2222222222222222,
              "#7201a8"
             ],
             [
              0.3333333333333333,
              "#9c179e"
             ],
             [
              0.4444444444444444,
              "#bd3786"
             ],
             [
              0.5555555555555556,
              "#d8576b"
             ],
             [
              0.6666666666666666,
              "#ed7953"
             ],
             [
              0.7777777777777778,
              "#fb9f3a"
             ],
             [
              0.8888888888888888,
              "#fdca26"
             ],
             [
              1,
              "#f0f921"
             ]
            ],
            "type": "contour"
           }
          ],
          "contourcarpet": [
           {
            "colorbar": {
             "outlinewidth": 0,
             "ticks": ""
            },
            "type": "contourcarpet"
           }
          ],
          "heatmap": [
           {
            "colorbar": {
             "outlinewidth": 0,
             "ticks": ""
            },
            "colorscale": [
             [
              0,
              "#0d0887"
             ],
             [
              0.1111111111111111,
              "#46039f"
             ],
             [
              0.2222222222222222,
              "#7201a8"
             ],
             [
              0.3333333333333333,
              "#9c179e"
             ],
             [
              0.4444444444444444,
              "#bd3786"
             ],
             [
              0.5555555555555556,
              "#d8576b"
             ],
             [
              0.6666666666666666,
              "#ed7953"
             ],
             [
              0.7777777777777778,
              "#fb9f3a"
             ],
             [
              0.8888888888888888,
              "#fdca26"
             ],
             [
              1,
              "#f0f921"
             ]
            ],
            "type": "heatmap"
           }
          ],
          "histogram": [
           {
            "marker": {
             "pattern": {
              "fillmode": "overlay",
              "size": 10,
              "solidity": 0.2
             }
            },
            "type": "histogram"
           }
          ],
          "histogram2d": [
           {
            "colorbar": {
             "outlinewidth": 0,
             "ticks": ""
            },
            "colorscale": [
             [
              0,
              "#0d0887"
             ],
             [
              0.1111111111111111,
              "#46039f"
             ],
             [
              0.2222222222222222,
              "#7201a8"
             ],
             [
              0.3333333333333333,
              "#9c179e"
             ],
             [
              0.4444444444444444,
              "#bd3786"
             ],
             [
              0.5555555555555556,
              "#d8576b"
             ],
             [
              0.6666666666666666,
              "#ed7953"
             ],
             [
              0.7777777777777778,
              "#fb9f3a"
             ],
             [
              0.8888888888888888,
              "#fdca26"
             ],
             [
              1,
              "#f0f921"
             ]
            ],
            "type": "histogram2d"
           }
          ],
          "histogram2dcontour": [
           {
            "colorbar": {
             "outlinewidth": 0,
             "ticks": ""
            },
            "colorscale": [
             [
              0,
              "#0d0887"
             ],
             [
              0.1111111111111111,
              "#46039f"
             ],
             [
              0.2222222222222222,
              "#7201a8"
             ],
             [
              0.3333333333333333,
              "#9c179e"
             ],
             [
              0.4444444444444444,
              "#bd3786"
             ],
             [
              0.5555555555555556,
              "#d8576b"
             ],
             [
              0.6666666666666666,
              "#ed7953"
             ],
             [
              0.7777777777777778,
              "#fb9f3a"
             ],
             [
              0.8888888888888888,
              "#fdca26"
             ],
             [
              1,
              "#f0f921"
             ]
            ],
            "type": "histogram2dcontour"
           }
          ],
          "mesh3d": [
           {
            "colorbar": {
             "outlinewidth": 0,
             "ticks": ""
            },
            "type": "mesh3d"
           }
          ],
          "parcoords": [
           {
            "line": {
             "colorbar": {
              "outlinewidth": 0,
              "ticks": ""
             }
            },
            "type": "parcoords"
           }
          ],
          "pie": [
           {
            "automargin": true,
            "type": "pie"
           }
          ],
          "scatter": [
           {
            "fillpattern": {
             "fillmode": "overlay",
             "size": 10,
             "solidity": 0.2
            },
            "type": "scatter"
           }
          ],
          "scatter3d": [
           {
            "line": {
             "colorbar": {
              "outlinewidth": 0,
              "ticks": ""
             }
            },
            "marker": {
             "colorbar": {
              "outlinewidth": 0,
              "ticks": ""
             }
            },
            "type": "scatter3d"
           }
          ],
          "scattercarpet": [
           {
            "marker": {
             "colorbar": {
              "outlinewidth": 0,
              "ticks": ""
             }
            },
            "type": "scattercarpet"
           }
          ],
          "scattergeo": [
           {
            "marker": {
             "colorbar": {
              "outlinewidth": 0,
              "ticks": ""
             }
            },
            "type": "scattergeo"
           }
          ],
          "scattergl": [
           {
            "marker": {
             "colorbar": {
              "outlinewidth": 0,
              "ticks": ""
             }
            },
            "type": "scattergl"
           }
          ],
          "scattermap": [
           {
            "marker": {
             "colorbar": {
              "outlinewidth": 0,
              "ticks": ""
             }
            },
            "type": "scattermap"
           }
          ],
          "scattermapbox": [
           {
            "marker": {
             "colorbar": {
              "outlinewidth": 0,
              "ticks": ""
             }
            },
            "type": "scattermapbox"
           }
          ],
          "scatterpolar": [
           {
            "marker": {
             "colorbar": {
              "outlinewidth": 0,
              "ticks": ""
             }
            },
            "type": "scatterpolar"
           }
          ],
          "scatterpolargl": [
           {
            "marker": {
             "colorbar": {
              "outlinewidth": 0,
              "ticks": ""
             }
            },
            "type": "scatterpolargl"
           }
          ],
          "scatterternary": [
           {
            "marker": {
             "colorbar": {
              "outlinewidth": 0,
              "ticks": ""
             }
            },
            "type": "scatterternary"
           }
          ],
          "surface": [
           {
            "colorbar": {
             "outlinewidth": 0,
             "ticks": ""
            },
            "colorscale": [
             [
              0,
              "#0d0887"
             ],
             [
              0.1111111111111111,
              "#46039f"
             ],
             [
              0.2222222222222222,
              "#7201a8"
             ],
             [
              0.3333333333333333,
              "#9c179e"
             ],
             [
              0.4444444444444444,
              "#bd3786"
             ],
             [
              0.5555555555555556,
              "#d8576b"
             ],
             [
              0.6666666666666666,
              "#ed7953"
             ],
             [
              0.7777777777777778,
              "#fb9f3a"
             ],
             [
              0.8888888888888888,
              "#fdca26"
             ],
             [
              1,
              "#f0f921"
             ]
            ],
            "type": "surface"
           }
          ],
          "table": [
           {
            "cells": {
             "fill": {
              "color": "#EBF0F8"
             },
             "line": {
              "color": "white"
             }
            },
            "header": {
             "fill": {
              "color": "#C8D4E3"
             },
             "line": {
              "color": "white"
             }
            },
            "type": "table"
           }
          ]
         },
         "layout": {
          "annotationdefaults": {
           "arrowcolor": "#2a3f5f",
           "arrowhead": 0,
           "arrowwidth": 1
          },
          "autotypenumbers": "strict",
          "coloraxis": {
           "colorbar": {
            "outlinewidth": 0,
            "ticks": ""
           }
          },
          "colorscale": {
           "diverging": [
            [
             0,
             "#8e0152"
            ],
            [
             0.1,
             "#c51b7d"
            ],
            [
             0.2,
             "#de77ae"
            ],
            [
             0.3,
             "#f1b6da"
            ],
            [
             0.4,
             "#fde0ef"
            ],
            [
             0.5,
             "#f7f7f7"
            ],
            [
             0.6,
             "#e6f5d0"
            ],
            [
             0.7,
             "#b8e186"
            ],
            [
             0.8,
             "#7fbc41"
            ],
            [
             0.9,
             "#4d9221"
            ],
            [
             1,
             "#276419"
            ]
           ],
           "sequential": [
            [
             0,
             "#0d0887"
            ],
            [
             0.1111111111111111,
             "#46039f"
            ],
            [
             0.2222222222222222,
             "#7201a8"
            ],
            [
             0.3333333333333333,
             "#9c179e"
            ],
            [
             0.4444444444444444,
             "#bd3786"
            ],
            [
             0.5555555555555556,
             "#d8576b"
            ],
            [
             0.6666666666666666,
             "#ed7953"
            ],
            [
             0.7777777777777778,
             "#fb9f3a"
            ],
            [
             0.8888888888888888,
             "#fdca26"
            ],
            [
             1,
             "#f0f921"
            ]
           ],
           "sequentialminus": [
            [
             0,
             "#0d0887"
            ],
            [
             0.1111111111111111,
             "#46039f"
            ],
            [
             0.2222222222222222,
             "#7201a8"
            ],
            [
             0.3333333333333333,
             "#9c179e"
            ],
            [
             0.4444444444444444,
             "#bd3786"
            ],
            [
             0.5555555555555556,
             "#d8576b"
            ],
            [
             0.6666666666666666,
             "#ed7953"
            ],
            [
             0.7777777777777778,
             "#fb9f3a"
            ],
            [
             0.8888888888888888,
             "#fdca26"
            ],
            [
             1,
             "#f0f921"
            ]
           ]
          },
          "colorway": [
           "#636efa",
           "#EF553B",
           "#00cc96",
           "#ab63fa",
           "#FFA15A",
           "#19d3f3",
           "#FF6692",
           "#B6E880",
           "#FF97FF",
           "#FECB52"
          ],
          "font": {
           "color": "#2a3f5f"
          },
          "geo": {
           "bgcolor": "white",
           "lakecolor": "white",
           "landcolor": "#E5ECF6",
           "showlakes": true,
           "showland": true,
           "subunitcolor": "white"
          },
          "hoverlabel": {
           "align": "left"
          },
          "hovermode": "closest",
          "mapbox": {
           "style": "light"
          },
          "paper_bgcolor": "white",
          "plot_bgcolor": "#E5ECF6",
          "polar": {
           "angularaxis": {
            "gridcolor": "white",
            "linecolor": "white",
            "ticks": ""
           },
           "bgcolor": "#E5ECF6",
           "radialaxis": {
            "gridcolor": "white",
            "linecolor": "white",
            "ticks": ""
           }
          },
          "scene": {
           "xaxis": {
            "backgroundcolor": "#E5ECF6",
            "gridcolor": "white",
            "gridwidth": 2,
            "linecolor": "white",
            "showbackground": true,
            "ticks": "",
            "zerolinecolor": "white"
           },
           "yaxis": {
            "backgroundcolor": "#E5ECF6",
            "gridcolor": "white",
            "gridwidth": 2,
            "linecolor": "white",
            "showbackground": true,
            "ticks": "",
            "zerolinecolor": "white"
           },
           "zaxis": {
            "backgroundcolor": "#E5ECF6",
            "gridcolor": "white",
            "gridwidth": 2,
            "linecolor": "white",
            "showbackground": true,
            "ticks": "",
            "zerolinecolor": "white"
           }
          },
          "shapedefaults": {
           "line": {
            "color": "#2a3f5f"
           }
          },
          "ternary": {
           "aaxis": {
            "gridcolor": "white",
            "linecolor": "white",
            "ticks": ""
           },
           "baxis": {
            "gridcolor": "white",
            "linecolor": "white",
            "ticks": ""
           },
           "bgcolor": "#E5ECF6",
           "caxis": {
            "gridcolor": "white",
            "linecolor": "white",
            "ticks": ""
           }
          },
          "title": {
           "x": 0.05
          },
          "xaxis": {
           "automargin": true,
           "gridcolor": "white",
           "linecolor": "white",
           "ticks": "",
           "title": {
            "standoff": 15
           },
           "zerolinecolor": "white",
           "zerolinewidth": 2
          },
          "yaxis": {
           "automargin": true,
           "gridcolor": "white",
           "linecolor": "white",
           "ticks": "",
           "title": {
            "standoff": 15
           },
           "zerolinecolor": "white",
           "zerolinewidth": 2
          }
         }
        },
        "title": {
         "text": "🛰️ Satellite Ground Track Risk Map"
        }
       }
      }
     },
     "metadata": {},
     "output_type": "display_data"
    }
   ],
   "source": [
    "# Step 5: Plot Satellite Subpoints and Risk Levels Using Plotly\n",
    "import plotly.io as pio\n",
    "pio.renderers.default = 'vscode'\n",
    "\n",
    "import pandas as pd\n",
    "\n",
    "\n",
    "# 📍 Function to plot the satellite risk map\n",
    "def plot_satellite_risk_map(df, sample_size=50):\n",
    "    import plotly.graph_objects as go\n",
    "\n",
    "    # Randomly sample satellites to avoid clutter\n",
    "    df_sampled = df.sample(n=min(sample_size, len(df)))\n",
    "\n",
    "    # Assign colors based on risk level\n",
    "    color_map = {'Low': 'green', 'Medium': 'orange', 'High': 'red'}\n",
    "    df_sampled['color'] = df_sampled['risk_level'].map(color_map)\n",
    "\n",
    "    fig = go.Figure(\n",
    "        go.Scattergeo(\n",
    "            lon = df_sampled['longitude'],\n",
    "            lat = df_sampled['latitude'],\n",
    "            text = df_sampled['name'] + '<br>Risk: ' + df_sampled['risk_level'],\n",
    "            mode = 'markers+text',\n",
    "            marker = dict(\n",
    "                size = 6,\n",
    "                color = df_sampled['color'],\n",
    "                line = dict(width=0.5, color='black'),\n",
    "                opacity = 0.8\n",
    "            ),\n",
    "            textfont = dict(\n",
    "                size = 8,\n",
    "                color = 'black'\n",
    "            ),\n",
    "            textposition = 'top center'\n",
    "        )\n",
    "    )\n",
    "\n",
    "    fig.update_geos(showland=True, landcolor=\"LightGray\")\n",
    "    fig.update_layout(\n",
    "        title='🛰️ Satellite Ground Track Risk Map',\n",
    "        geo=dict(\n",
    "            projection_type='orthographic',\n",
    "            showcoastlines=True,\n",
    "            showland=True,\n",
    "            showocean=True,\n",
    "            oceancolor='lightblue',\n",
    "            landcolor='beige',\n",
    "            showframe=False,\n",
    "        )\n",
    "    )\n",
    "\n",
    "    return fig  # ✅ important\n",
    "\n",
    "fig = plot_satellite_risk_map(df_features, sample_size=50)\n",
    "# Save the HTML to docs\n",
    "save_path = os.path.join(os.getcwd(), \"docs\", \"satellite_risk_map_sample.html\")\n",
    "fig.write_html(save_path)\n",
    "\n",
    "fig.show()\n",
    "\n"
   ]
  },
  {
   "cell_type": "code",
   "execution_count": 33,
   "id": "dacc597d",
   "metadata": {},
   "outputs": [
    {
     "name": "stdout",
     "output_type": "stream",
     "text": [
      "✅ Saved: visualizations/risk_maps/2025-06-09_satellite_risk_map.html\n",
      "✅ Saved: visualizations/risk_maps/2025-06-09_risk_data.csv\n"
     ]
    }
   ],
   "source": [
    "import os\n",
    "from datetime import datetime\n",
    "\n",
    "# ✅ Ensure folder exists\n",
    "output_dir = \"visualizations/risk_maps\"\n",
    "os.makedirs(output_dir, exist_ok=True)\n",
    "\n",
    "# 📅 Create dated filenames\n",
    "today_str = datetime.today().strftime(\"%Y-%m-%d\")\n",
    "html_path = f\"{output_dir}/{today_str}_satellite_risk_map.html\"\n",
    "csv_path = f\"{output_dir}/{today_str}_risk_data.csv\"\n",
    "\n",
    "# ✅ Save files\n",
    "fig.write_html(html_path)\n",
    "df_features.to_csv(csv_path, index=False)\n",
    "\n",
    "print(f\"✅ Saved: {html_path}\")\n",
    "print(f\"✅ Saved: {csv_path}\")\n"
   ]
  }
 ],
 "metadata": {
  "kernelspec": {
   "display_name": "interplanix",
   "language": "python",
   "name": "python3"
  },
  "language_info": {
   "codemirror_mode": {
    "name": "ipython",
    "version": 3
   },
   "file_extension": ".py",
   "mimetype": "text/x-python",
   "name": "python",
   "nbconvert_exporter": "python",
   "pygments_lexer": "ipython3",
   "version": "3.12.7"
  }
 },
 "nbformat": 4,
 "nbformat_minor": 5
}
