{
 "cells": [
  {
   "cell_type": "code",
   "execution_count": 28,
   "id": "016d9b22",
   "metadata": {},
   "outputs": [
    {
     "name": "stdout",
     "output_type": "stream",
     "text": [
      "✅ TLE data downloaded and saved to: tle_data_20250605.txt\n"
     ]
    }
   ],
   "source": [
    "import requests\n",
    "from datetime import datetime, timezone\n",
    "\n",
    "# 1️⃣ Use today's UTC date in the filename\n",
    "today_str = datetime.now(timezone.utc).strftime(\"%Y%m%d\")\n",
    "tle_file = f'tle_data_{today_str}.txt'\n",
    "\n",
    "# 2️⃣ CelesTrak's TLE for \"Active Satellites\" (updated and working)\n",
    "url = 'https://celestrak.com/NORAD/elements/gp.php?GROUP=active&FORMAT=tle'\n",
    "\n",
    "# 3️⃣ Fetch and save TLE data\n",
    "response = requests.get(url)\n",
    "if response.status_code == 200:\n",
    "    with open(tle_file, 'w', encoding='utf-8') as f:\n",
    "        f.write(response.text)\n",
    "    print(f\"✅ TLE data downloaded and saved to: {tle_file}\")\n",
    "else:\n",
    "    print(f\"❌ Failed to download TLE data. Status code: {response.status_code}\")\n"
   ]
  },
  {
   "cell_type": "code",
   "execution_count": 29,
   "id": "2addb4ac",
   "metadata": {},
   "outputs": [
    {
     "name": "stdout",
     "output_type": "stream",
     "text": [
      "📦 Loaded 11732 satellites\n",
      "📊 Sample satellite data:\n",
      "           name   latitude   longitude  altitude_km  dist_from_equator\n",
      "0   CALSPHERE 1 -83.747359   -0.516784  1003.768008          83.747359\n",
      "1   CALSPHERE 2 -48.532990    1.613339  1077.041355          48.532990\n",
      "2         LCS 1  -4.768434  113.448855  2778.711610           4.768434\n",
      "3     TEMPSAT 1  12.705993  147.350984  1178.591702          12.705993\n",
      "4  CALSPHERE 4A -47.269182   60.093910  1178.815662          47.269182\n"
     ]
    }
   ],
   "source": [
    "# Step 2: Load saved TLE file and compute satellite geolocations\n",
    "\n",
    "from skyfield.api import load, wgs84\n",
    "from datetime import datetime, timezone\n",
    "import pandas as pd\n",
    "import os\n",
    "\n",
    "# 1️⃣ Generate today's TLE file name\n",
    "today_str = datetime.now(timezone.utc).strftime(\"%Y%m%d\")\n",
    "tle_file = f'tle_data_{today_str}.txt'\n",
    "\n",
    "# 2️⃣ Check if the TLE file exists\n",
    "if not os.path.exists(tle_file):\n",
    "    raise FileNotFoundError(f\"TLE file {tle_file} not found. Please run Step 1 first.\")\n",
    "\n",
    "# 3️⃣ Load satellites from saved TLE file\n",
    "satellites = load.tle_file(tle_file)\n",
    "print(f\"📦 Loaded {len(satellites)} satellites\")\n",
    "\n",
    "# 4️⃣ Get current UTC time as Skyfield time object\n",
    "ts = load.timescale()\n",
    "now = ts.now()\n",
    "\n",
    "# 5️⃣ Compute ground subpoints for first N satellites\n",
    "records = []\n",
    "for sat in satellites[:20]:  # Limit to first 20 satellites for testing\n",
    "    try:\n",
    "        geocentric = sat.at(now)\n",
    "        subpoint = wgs84.subpoint(geocentric)\n",
    "\n",
    "        records.append({\n",
    "            'name': sat.name,\n",
    "            'latitude': subpoint.latitude.degrees,\n",
    "            'longitude': subpoint.longitude.degrees,\n",
    "            'altitude_km': subpoint.elevation.km,\n",
    "            'dist_from_equator': abs(subpoint.latitude.degrees)\n",
    "        })\n",
    "    except Exception as e:\n",
    "        print(f\"⚠️ Skipping {sat.name} due to error: {e}\")\n",
    "\n",
    "# 6️⃣ Create DataFrame\n",
    "df = pd.DataFrame(records)\n",
    "\n",
    "# 7️⃣ Print sample data\n",
    "print(\"📊 Sample satellite data:\")\n",
    "print(df.head())\n"
   ]
  },
  {
   "cell_type": "code",
   "execution_count": null,
   "id": "2fd2d322",
   "metadata": {},
   "outputs": [
    {
     "name": "stdout",
     "output_type": "stream",
     "text": [
      "📊 Sample satellite data:\n"
     ]
    },
    {
     "data": {
      "text/html": [
       "<div>\n",
       "<style scoped>\n",
       "    .dataframe tbody tr th:only-of-type {\n",
       "        vertical-align: middle;\n",
       "    }\n",
       "\n",
       "    .dataframe tbody tr th {\n",
       "        vertical-align: top;\n",
       "    }\n",
       "\n",
       "    .dataframe thead th {\n",
       "        text-align: right;\n",
       "    }\n",
       "</style>\n",
       "<table border=\"1\" class=\"dataframe\">\n",
       "  <thead>\n",
       "    <tr style=\"text-align: right;\">\n",
       "      <th></th>\n",
       "      <th>name</th>\n",
       "      <th>latitude</th>\n",
       "      <th>longitude</th>\n",
       "      <th>altitude_km</th>\n",
       "      <th>dist_from_equator</th>\n",
       "    </tr>\n",
       "  </thead>\n",
       "  <tbody>\n",
       "    <tr>\n",
       "      <th>0</th>\n",
       "      <td>CALSPHERE 1</td>\n",
       "      <td>-80.740636</td>\n",
       "      <td>-1.384338</td>\n",
       "      <td>1002.439366</td>\n",
       "      <td>80.740636</td>\n",
       "    </tr>\n",
       "    <tr>\n",
       "      <th>1</th>\n",
       "      <td>CALSPHERE 2</td>\n",
       "      <td>-45.558188</td>\n",
       "      <td>1.366582</td>\n",
       "      <td>1076.444187</td>\n",
       "      <td>45.558188</td>\n",
       "    </tr>\n",
       "    <tr>\n",
       "      <th>2</th>\n",
       "      <td>LCS 1</td>\n",
       "      <td>-5.923180</td>\n",
       "      <td>115.093033</td>\n",
       "      <td>2778.653851</td>\n",
       "      <td>5.923180</td>\n",
       "    </tr>\n",
       "    <tr>\n",
       "      <th>3</th>\n",
       "      <td>TEMPSAT 1</td>\n",
       "      <td>15.623822</td>\n",
       "      <td>147.131364</td>\n",
       "      <td>1180.025650</td>\n",
       "      <td>15.623822</td>\n",
       "    </tr>\n",
       "    <tr>\n",
       "      <th>4</th>\n",
       "      <td>CALSPHERE 4A</td>\n",
       "      <td>-44.360758</td>\n",
       "      <td>59.881268</td>\n",
       "      <td>1175.563249</td>\n",
       "      <td>44.360758</td>\n",
       "    </tr>\n",
       "  </tbody>\n",
       "</table>\n",
       "</div>"
      ],
      "text/plain": [
       "           name   latitude   longitude  altitude_km  dist_from_equator\n",
       "0   CALSPHERE 1 -80.740636   -1.384338  1002.439366          80.740636\n",
       "1   CALSPHERE 2 -45.558188    1.366582  1076.444187          45.558188\n",
       "2         LCS 1  -5.923180  115.093033  2778.653851           5.923180\n",
       "3     TEMPSAT 1  15.623822  147.131364  1180.025650          15.623822\n",
       "4  CALSPHERE 4A -44.360758   59.881268  1175.563249          44.360758"
      ]
     },
     "execution_count": 30,
     "metadata": {},
     "output_type": "execute_result"
    }
   ],
   "source": []
  },
  {
   "cell_type": "code",
   "execution_count": 34,
   "id": "15c1f8d4",
   "metadata": {},
   "outputs": [
    {
     "name": "stdout",
     "output_type": "stream",
     "text": [
      "📊 Sample satellite features:\n",
      "           name   latitude   longitude  altitude_km  dist_from_equator\n",
      "0   CALSPHERE 1   6.830866   -9.095245   960.968640           6.830866\n",
      "1   CALSPHERE 2  40.409051   -5.426884  1079.377442          40.409051\n",
      "2         LCS 1 -30.881405  170.598026  2785.118721          30.881405\n",
      "3     TEMPSAT 1  80.869062  -39.376696  1176.848692          80.869062\n",
      "4  CALSPHERE 4A  40.714128   53.664907  1091.683337          40.714128\n"
     ]
    }
   ],
   "source": [
    "# Step 3: Compute Satellite Position Features (Lat, Lon, Altitude)\n",
    "\n",
    "from skyfield.api import wgs84\n",
    "from datetime import datetime, timezone\n",
    "\n",
    "def compute_satellite_features(satellites, ts):\n",
    "    \"\"\"\n",
    "    Computes geodetic features (lat, lon, altitude) for each satellite.\n",
    "    Parameters:\n",
    "        satellites: list of skyfield EarthSatellite objects\n",
    "        ts: Skyfield TimeScale object\n",
    "    Returns:\n",
    "        DataFrame with satellite name, latitude, longitude, altitude_km, distance from equator\n",
    "    \"\"\"\n",
    "    now = ts.now()  # ✅ Must use Skyfield Time object\n",
    "    data = []\n",
    "\n",
    "    for sat in satellites:\n",
    "        try:\n",
    "            geocentric = sat.at(now)  # This requires a Time object\n",
    "            subpoint = wgs84.subpoint(geocentric)\n",
    "            lat = subpoint.latitude.degrees\n",
    "            lon = subpoint.longitude.degrees\n",
    "            alt = subpoint.elevation.km\n",
    "            dist_from_equator = abs(lat)\n",
    "\n",
    "            data.append({\n",
    "                'name': sat.name,\n",
    "                'latitude': lat,\n",
    "                'longitude': lon,\n",
    "                'altitude_km': alt,\n",
    "                'dist_from_equator': dist_from_equator\n",
    "            })\n",
    "        except Exception as e:\n",
    "            print(f\"⚠️ Failed for {sat.name}: {e}\")\n",
    "\n",
    "    df = pd.DataFrame(data)\n",
    "    return df\n",
    "\n",
    "# ✅ Usage Example:\n",
    "df_features = compute_satellite_features(satellites, ts)\n",
    "print(\"📊 Sample satellite features:\")\n",
    "print(df_features.head())\n"
   ]
  },
  {
   "cell_type": "code",
   "execution_count": 35,
   "id": "faa49553",
   "metadata": {},
   "outputs": [
    {
     "name": "stdout",
     "output_type": "stream",
     "text": [
      "🛰️ Satellite features with risk levels:\n",
      "           name   latitude   longitude  altitude_km risk_level\n",
      "0   CALSPHERE 1   6.830866   -9.095245   960.968640        Low\n",
      "1   CALSPHERE 2  40.409051   -5.426884  1079.377442     Medium\n",
      "2         LCS 1 -30.881405  170.598026  2785.118721     Medium\n",
      "3     TEMPSAT 1  80.869062  -39.376696  1176.848692       High\n",
      "4  CALSPHERE 4A  40.714128   53.664907  1091.683337     Medium\n"
     ]
    }
   ],
   "source": [
    "# Step 4: Classify Risk Levels Based on Satellite Features\n",
    "\n",
    "def classify_risk_levels(df):\n",
    "    \"\"\"\n",
    "    Adds a 'risk_level' column based on distance from equator.\n",
    "    Thresholds:\n",
    "        - Low: <= 10 degrees\n",
    "        - Medium: 10–50 degrees\n",
    "        - High: > 50 degrees\n",
    "    Parameters:\n",
    "        df: DataFrame with satellite features (including 'dist_from_equator')\n",
    "    Returns:\n",
    "        Updated DataFrame with a new 'risk_level' column\n",
    "    \"\"\"\n",
    "    def risk_category(dist):\n",
    "        if dist <= 10:\n",
    "            return 'Low'\n",
    "        elif dist <= 50:\n",
    "            return 'Medium'\n",
    "        else:\n",
    "            return 'High'\n",
    "\n",
    "    df['risk_level'] = df['dist_from_equator'].apply(risk_category)\n",
    "    return df\n",
    "\n",
    "# ✅ Apply risk classification to satellite features\n",
    "df_features = classify_risk_levels(df_features)\n",
    "\n",
    "print(\"🛰️ Satellite features with risk levels:\")\n",
    "print(df_features[['name', 'latitude', 'longitude', 'altitude_km', 'risk_level']].head())\n"
   ]
  },
  {
   "cell_type": "markdown",
   "id": "8bfd0ea9",
   "metadata": {},
   "source": [
    "### 🚨 Risk Level Classification Based on Distance from Equator\n",
    "\n",
    "This section assigns a `risk_level` to each satellite using its distance from the equator (in degrees of latitude). This is used as a proxy to assess potential conjunction risk or exposure to debris and traffic.\n",
    "\n",
    "**Thresholds:**\n",
    "- **Low Risk** (≤ 10°): Equatorial or near-equatorial orbits. Lower orbital traffic.\n",
    "- **Medium Risk** (10°–50°): Moderately inclined orbits. Moderate intersection probability.\n",
    "- **High Risk** (> 50°): Polar or sun-synchronous orbits. Highest chance of orbital crossings.\n",
    "\n",
    "> 🔍 Note: This is a basic heuristic. It can later be improved by integrating actual debris maps, relative velocities, or orbital crossings.\n"
   ]
  },
  {
   "cell_type": "code",
   "execution_count": 36,
   "id": "05f55bd5",
   "metadata": {},
   "outputs": [
    {
     "data": {
      "application/vnd.plotly.v1+json": {
       "config": {
        "plotlyServerURL": "https://plot.ly"
       },
       "data": [
        {
         "lat": {
          "bdata": "S0tlTyw/J0CJ0J3hortEQErpWLgVd0jAuirTMc2vJEBuDsW205Q9wKUHTO5SYjbANrBu17+gSkC1kYn27ZdEQJFiL1TwZEBAAFnJ98o2R8DqmldXhmENwJe7ZAlKeEVA1ycO5XGZQUDgMibFY2I2wCHgk+wrXkrA4PBLMYYC078vVLm5Un5JQBN5msykgUpANvZhdNlAN0A5PapOj90EQFAURNNi0CvAeKN6TTOdFsALYQeJilg2wBnhyqjR8URAygnIG7b7QUBlCqgsALL2vzri0ikdZ0tAk87lf6OMMcCo5qFO/KFKwEPeK+B7dEVAEpTwV1NKO8A0vpu27YJIwFru/5Zwu1BATTW4aBjSM0CwflCFBM8oQBhw66LRhCvATfhjjOcWOcDpeHagGx5GwC0tA1XfJ1FAQSosotk8QkCi2QSYC/MgwEQV5lq/n1BAipm/5UPmQkDKXsE2/9pIwCP+TlR0lUFAzUcj9yaeIECuRt+73NZGQHnsfJOHlUhAiZJ6i3G5RUCq8LUa3MErQA==",
          "dtype": "f8"
         },
         "lon": {
          "bdata": "HmeJk44QYkAYd6yzxSpiQFXNbBJOx19Au6IXHSxZN8DgSIVCKWRfQERMpzl0V2VAlnxiQXayUcB+E7E0JjJXQPxM0evalGTAyWMkuAy3YkAW8QrpfrhZQMwsMSL+LFFAPdHjeUDzTsDRQ07EJGkXQKs/GkCAnmBAiqpw/lu4CkCf5OA5vAZSwIMFz0N38EnAqj7G+VDqYcAjPDh6ezdSwL8C1XbsBkHAw6DpXmuDVMDGRpPSKkViQHmV9uMlalLAgN7knzrBXEA8Z0liHYkjQPvdSqnAbEbAIAPQajLfZEDzqnEHTuhiQFW8caaahWFAN5WNTDVcZUBkFLI/UcdewAWp9wMEmFdA+uluXjIXZEBN6VEqEbxLwNFS9cBwshdAZ4XVa3ErSMB1XgCqIqw2wDMW8bs55V5AahL351smV8ASl33se9RCQHtNbYUdSURAeG9IFh+hVUDL7mstnNpcwE85w96LihlAqRjkeceRSMDrpjkclQxfwPzQW1pW1WJAV/LmgIVUQ8CVXxq4WdhawA==",
          "dtype": "f8"
         },
         "marker": {
          "color": [
           "orange",
           "orange",
           "orange",
           "orange",
           "orange",
           "orange",
           "red",
           "orange",
           "orange",
           "orange",
           "green",
           "orange",
           "orange",
           "orange",
           "red",
           "green",
           "red",
           "red",
           "orange",
           "green",
           "orange",
           "green",
           "orange",
           "orange",
           "orange",
           "green",
           "red",
           "orange",
           "red",
           "orange",
           "orange",
           "orange",
           "red",
           "orange",
           "orange",
           "orange",
           "orange",
           "orange",
           "red",
           "orange",
           "green",
           "red",
           "orange",
           "orange",
           "orange",
           "green",
           "orange",
           "orange",
           "orange",
           "orange"
          ],
          "line": {
           "color": "black",
           "width": 0.5
          },
          "opacity": 0.8,
          "size": 6
         },
         "mode": "markers+text",
         "text": [
          "STARLINK-4407<br>Risk: Medium",
          "STARLINK-11630 [DTC]<br>Risk: Medium",
          "WILDFIRE 6<br>Risk: Medium",
          "LEMUR-2-DELOITTE-1<br>Risk: Medium",
          "STARLINK-6154<br>Risk: Medium",
          "STARLINK-31459<br>Risk: Medium",
          "STARLINK-11240 [DTC]<br>Risk: High",
          "STARLINK-4312<br>Risk: Medium",
          "STARLINK-32289<br>Risk: Medium",
          "SITRO-AIS 8 (ANOKHIN)<br>Risk: Medium",
          "STARLINK-31474<br>Risk: Low",
          "STARLINK-30890<br>Risk: Medium",
          "YAOGAN-3<br>Risk: Medium",
          "STARLINK-2505<br>Risk: Medium",
          "STARLINK-32133<br>Risk: High",
          "SYRACUSE 3B<br>Risk: Low",
          "STARLINK-3933<br>Risk: High",
          "STARLINK-32321<br>Risk: High",
          "2024-043S<br>Risk: Medium",
          "STARLINK-11397 [DTC]<br>Risk: Low",
          "STARLINK-4714<br>Risk: Medium",
          "STARLINK-11662 [DTC]<br>Risk: Low",
          "GONETS-M 19<br>Risk: Medium",
          "STARLINK-30175<br>Risk: Medium",
          "STARLINK-30892<br>Risk: Medium",
          "STARLINK-30149<br>Risk: Low",
          "STARLINK-4472<br>Risk: High",
          "PAUSAT-1<br>Risk: Medium",
          "STARLINK-3981<br>Risk: High",
          "2023-103B<br>Risk: Medium",
          "GEESAT-3 10<br>Risk: Medium",
          "STARLINK-32839<br>Risk: Medium",
          "WILDFIRE 4<br>Risk: High",
          "ICEYE-X48<br>Risk: Medium",
          "KSM1-D<br>Risk: Medium",
          "STARLINK-4799<br>Risk: Medium",
          "STARLINK-5839<br>Risk: Medium",
          "FLOCK 4G-9<br>Risk: Medium",
          "STARLINK-5640<br>Risk: High",
          "STARLINK-11484 [DTC]<br>Risk: Medium",
          "STARLINK-3915<br>Risk: Low",
          "COSMOS 2386<br>Risk: High",
          "QIANFAN-74<br>Risk: Medium",
          "STARLINK-5096<br>Risk: Medium",
          "STARLINK-3077<br>Risk: Medium",
          "TDRS 3<br>Risk: Low",
          "CENTISPACE-1 S13<br>Risk: Medium",
          "STARLINK-3584<br>Risk: Medium",
          "STARLINK-33858<br>Risk: Medium",
          "STARLINK-31621<br>Risk: Medium"
         ],
         "textfont": {
          "color": "black",
          "size": 8
         },
         "textposition": "top center",
         "type": "scattergeo"
        }
       ],
       "layout": {
        "geo": {
         "coastlinecolor": "gray",
         "landcolor": "rgb(230, 230, 230)",
         "oceancolor": "rgb(200, 230, 255)",
         "projection": {
          "type": "natural earth"
         },
         "showland": true,
         "showocean": true
        },
        "margin": {
         "b": 0,
         "l": 0,
         "r": 0,
         "t": 30
        },
        "template": {
         "data": {
          "bar": [
           {
            "error_x": {
             "color": "#2a3f5f"
            },
            "error_y": {
             "color": "#2a3f5f"
            },
            "marker": {
             "line": {
              "color": "#E5ECF6",
              "width": 0.5
             },
             "pattern": {
              "fillmode": "overlay",
              "size": 10,
              "solidity": 0.2
             }
            },
            "type": "bar"
           }
          ],
          "barpolar": [
           {
            "marker": {
             "line": {
              "color": "#E5ECF6",
              "width": 0.5
             },
             "pattern": {
              "fillmode": "overlay",
              "size": 10,
              "solidity": 0.2
             }
            },
            "type": "barpolar"
           }
          ],
          "carpet": [
           {
            "aaxis": {
             "endlinecolor": "#2a3f5f",
             "gridcolor": "white",
             "linecolor": "white",
             "minorgridcolor": "white",
             "startlinecolor": "#2a3f5f"
            },
            "baxis": {
             "endlinecolor": "#2a3f5f",
             "gridcolor": "white",
             "linecolor": "white",
             "minorgridcolor": "white",
             "startlinecolor": "#2a3f5f"
            },
            "type": "carpet"
           }
          ],
          "choropleth": [
           {
            "colorbar": {
             "outlinewidth": 0,
             "ticks": ""
            },
            "type": "choropleth"
           }
          ],
          "contour": [
           {
            "colorbar": {
             "outlinewidth": 0,
             "ticks": ""
            },
            "colorscale": [
             [
              0,
              "#0d0887"
             ],
             [
              0.1111111111111111,
              "#46039f"
             ],
             [
              0.2222222222222222,
              "#7201a8"
             ],
             [
              0.3333333333333333,
              "#9c179e"
             ],
             [
              0.4444444444444444,
              "#bd3786"
             ],
             [
              0.5555555555555556,
              "#d8576b"
             ],
             [
              0.6666666666666666,
              "#ed7953"
             ],
             [
              0.7777777777777778,
              "#fb9f3a"
             ],
             [
              0.8888888888888888,
              "#fdca26"
             ],
             [
              1,
              "#f0f921"
             ]
            ],
            "type": "contour"
           }
          ],
          "contourcarpet": [
           {
            "colorbar": {
             "outlinewidth": 0,
             "ticks": ""
            },
            "type": "contourcarpet"
           }
          ],
          "heatmap": [
           {
            "colorbar": {
             "outlinewidth": 0,
             "ticks": ""
            },
            "colorscale": [
             [
              0,
              "#0d0887"
             ],
             [
              0.1111111111111111,
              "#46039f"
             ],
             [
              0.2222222222222222,
              "#7201a8"
             ],
             [
              0.3333333333333333,
              "#9c179e"
             ],
             [
              0.4444444444444444,
              "#bd3786"
             ],
             [
              0.5555555555555556,
              "#d8576b"
             ],
             [
              0.6666666666666666,
              "#ed7953"
             ],
             [
              0.7777777777777778,
              "#fb9f3a"
             ],
             [
              0.8888888888888888,
              "#fdca26"
             ],
             [
              1,
              "#f0f921"
             ]
            ],
            "type": "heatmap"
           }
          ],
          "histogram": [
           {
            "marker": {
             "pattern": {
              "fillmode": "overlay",
              "size": 10,
              "solidity": 0.2
             }
            },
            "type": "histogram"
           }
          ],
          "histogram2d": [
           {
            "colorbar": {
             "outlinewidth": 0,
             "ticks": ""
            },
            "colorscale": [
             [
              0,
              "#0d0887"
             ],
             [
              0.1111111111111111,
              "#46039f"
             ],
             [
              0.2222222222222222,
              "#7201a8"
             ],
             [
              0.3333333333333333,
              "#9c179e"
             ],
             [
              0.4444444444444444,
              "#bd3786"
             ],
             [
              0.5555555555555556,
              "#d8576b"
             ],
             [
              0.6666666666666666,
              "#ed7953"
             ],
             [
              0.7777777777777778,
              "#fb9f3a"
             ],
             [
              0.8888888888888888,
              "#fdca26"
             ],
             [
              1,
              "#f0f921"
             ]
            ],
            "type": "histogram2d"
           }
          ],
          "histogram2dcontour": [
           {
            "colorbar": {
             "outlinewidth": 0,
             "ticks": ""
            },
            "colorscale": [
             [
              0,
              "#0d0887"
             ],
             [
              0.1111111111111111,
              "#46039f"
             ],
             [
              0.2222222222222222,
              "#7201a8"
             ],
             [
              0.3333333333333333,
              "#9c179e"
             ],
             [
              0.4444444444444444,
              "#bd3786"
             ],
             [
              0.5555555555555556,
              "#d8576b"
             ],
             [
              0.6666666666666666,
              "#ed7953"
             ],
             [
              0.7777777777777778,
              "#fb9f3a"
             ],
             [
              0.8888888888888888,
              "#fdca26"
             ],
             [
              1,
              "#f0f921"
             ]
            ],
            "type": "histogram2dcontour"
           }
          ],
          "mesh3d": [
           {
            "colorbar": {
             "outlinewidth": 0,
             "ticks": ""
            },
            "type": "mesh3d"
           }
          ],
          "parcoords": [
           {
            "line": {
             "colorbar": {
              "outlinewidth": 0,
              "ticks": ""
             }
            },
            "type": "parcoords"
           }
          ],
          "pie": [
           {
            "automargin": true,
            "type": "pie"
           }
          ],
          "scatter": [
           {
            "fillpattern": {
             "fillmode": "overlay",
             "size": 10,
             "solidity": 0.2
            },
            "type": "scatter"
           }
          ],
          "scatter3d": [
           {
            "line": {
             "colorbar": {
              "outlinewidth": 0,
              "ticks": ""
             }
            },
            "marker": {
             "colorbar": {
              "outlinewidth": 0,
              "ticks": ""
             }
            },
            "type": "scatter3d"
           }
          ],
          "scattercarpet": [
           {
            "marker": {
             "colorbar": {
              "outlinewidth": 0,
              "ticks": ""
             }
            },
            "type": "scattercarpet"
           }
          ],
          "scattergeo": [
           {
            "marker": {
             "colorbar": {
              "outlinewidth": 0,
              "ticks": ""
             }
            },
            "type": "scattergeo"
           }
          ],
          "scattergl": [
           {
            "marker": {
             "colorbar": {
              "outlinewidth": 0,
              "ticks": ""
             }
            },
            "type": "scattergl"
           }
          ],
          "scattermap": [
           {
            "marker": {
             "colorbar": {
              "outlinewidth": 0,
              "ticks": ""
             }
            },
            "type": "scattermap"
           }
          ],
          "scattermapbox": [
           {
            "marker": {
             "colorbar": {
              "outlinewidth": 0,
              "ticks": ""
             }
            },
            "type": "scattermapbox"
           }
          ],
          "scatterpolar": [
           {
            "marker": {
             "colorbar": {
              "outlinewidth": 0,
              "ticks": ""
             }
            },
            "type": "scatterpolar"
           }
          ],
          "scatterpolargl": [
           {
            "marker": {
             "colorbar": {
              "outlinewidth": 0,
              "ticks": ""
             }
            },
            "type": "scatterpolargl"
           }
          ],
          "scatterternary": [
           {
            "marker": {
             "colorbar": {
              "outlinewidth": 0,
              "ticks": ""
             }
            },
            "type": "scatterternary"
           }
          ],
          "surface": [
           {
            "colorbar": {
             "outlinewidth": 0,
             "ticks": ""
            },
            "colorscale": [
             [
              0,
              "#0d0887"
             ],
             [
              0.1111111111111111,
              "#46039f"
             ],
             [
              0.2222222222222222,
              "#7201a8"
             ],
             [
              0.3333333333333333,
              "#9c179e"
             ],
             [
              0.4444444444444444,
              "#bd3786"
             ],
             [
              0.5555555555555556,
              "#d8576b"
             ],
             [
              0.6666666666666666,
              "#ed7953"
             ],
             [
              0.7777777777777778,
              "#fb9f3a"
             ],
             [
              0.8888888888888888,
              "#fdca26"
             ],
             [
              1,
              "#f0f921"
             ]
            ],
            "type": "surface"
           }
          ],
          "table": [
           {
            "cells": {
             "fill": {
              "color": "#EBF0F8"
             },
             "line": {
              "color": "white"
             }
            },
            "header": {
             "fill": {
              "color": "#C8D4E3"
             },
             "line": {
              "color": "white"
             }
            },
            "type": "table"
           }
          ]
         },
         "layout": {
          "annotationdefaults": {
           "arrowcolor": "#2a3f5f",
           "arrowhead": 0,
           "arrowwidth": 1
          },
          "autotypenumbers": "strict",
          "coloraxis": {
           "colorbar": {
            "outlinewidth": 0,
            "ticks": ""
           }
          },
          "colorscale": {
           "diverging": [
            [
             0,
             "#8e0152"
            ],
            [
             0.1,
             "#c51b7d"
            ],
            [
             0.2,
             "#de77ae"
            ],
            [
             0.3,
             "#f1b6da"
            ],
            [
             0.4,
             "#fde0ef"
            ],
            [
             0.5,
             "#f7f7f7"
            ],
            [
             0.6,
             "#e6f5d0"
            ],
            [
             0.7,
             "#b8e186"
            ],
            [
             0.8,
             "#7fbc41"
            ],
            [
             0.9,
             "#4d9221"
            ],
            [
             1,
             "#276419"
            ]
           ],
           "sequential": [
            [
             0,
             "#0d0887"
            ],
            [
             0.1111111111111111,
             "#46039f"
            ],
            [
             0.2222222222222222,
             "#7201a8"
            ],
            [
             0.3333333333333333,
             "#9c179e"
            ],
            [
             0.4444444444444444,
             "#bd3786"
            ],
            [
             0.5555555555555556,
             "#d8576b"
            ],
            [
             0.6666666666666666,
             "#ed7953"
            ],
            [
             0.7777777777777778,
             "#fb9f3a"
            ],
            [
             0.8888888888888888,
             "#fdca26"
            ],
            [
             1,
             "#f0f921"
            ]
           ],
           "sequentialminus": [
            [
             0,
             "#0d0887"
            ],
            [
             0.1111111111111111,
             "#46039f"
            ],
            [
             0.2222222222222222,
             "#7201a8"
            ],
            [
             0.3333333333333333,
             "#9c179e"
            ],
            [
             0.4444444444444444,
             "#bd3786"
            ],
            [
             0.5555555555555556,
             "#d8576b"
            ],
            [
             0.6666666666666666,
             "#ed7953"
            ],
            [
             0.7777777777777778,
             "#fb9f3a"
            ],
            [
             0.8888888888888888,
             "#fdca26"
            ],
            [
             1,
             "#f0f921"
            ]
           ]
          },
          "colorway": [
           "#636efa",
           "#EF553B",
           "#00cc96",
           "#ab63fa",
           "#FFA15A",
           "#19d3f3",
           "#FF6692",
           "#B6E880",
           "#FF97FF",
           "#FECB52"
          ],
          "font": {
           "color": "#2a3f5f"
          },
          "geo": {
           "bgcolor": "white",
           "lakecolor": "white",
           "landcolor": "#E5ECF6",
           "showlakes": true,
           "showland": true,
           "subunitcolor": "white"
          },
          "hoverlabel": {
           "align": "left"
          },
          "hovermode": "closest",
          "mapbox": {
           "style": "light"
          },
          "paper_bgcolor": "white",
          "plot_bgcolor": "#E5ECF6",
          "polar": {
           "angularaxis": {
            "gridcolor": "white",
            "linecolor": "white",
            "ticks": ""
           },
           "bgcolor": "#E5ECF6",
           "radialaxis": {
            "gridcolor": "white",
            "linecolor": "white",
            "ticks": ""
           }
          },
          "scene": {
           "xaxis": {
            "backgroundcolor": "#E5ECF6",
            "gridcolor": "white",
            "gridwidth": 2,
            "linecolor": "white",
            "showbackground": true,
            "ticks": "",
            "zerolinecolor": "white"
           },
           "yaxis": {
            "backgroundcolor": "#E5ECF6",
            "gridcolor": "white",
            "gridwidth": 2,
            "linecolor": "white",
            "showbackground": true,
            "ticks": "",
            "zerolinecolor": "white"
           },
           "zaxis": {
            "backgroundcolor": "#E5ECF6",
            "gridcolor": "white",
            "gridwidth": 2,
            "linecolor": "white",
            "showbackground": true,
            "ticks": "",
            "zerolinecolor": "white"
           }
          },
          "shapedefaults": {
           "line": {
            "color": "#2a3f5f"
           }
          },
          "ternary": {
           "aaxis": {
            "gridcolor": "white",
            "linecolor": "white",
            "ticks": ""
           },
           "baxis": {
            "gridcolor": "white",
            "linecolor": "white",
            "ticks": ""
           },
           "bgcolor": "#E5ECF6",
           "caxis": {
            "gridcolor": "white",
            "linecolor": "white",
            "ticks": ""
           }
          },
          "title": {
           "x": 0.05
          },
          "xaxis": {
           "automargin": true,
           "gridcolor": "white",
           "linecolor": "white",
           "ticks": "",
           "title": {
            "standoff": 15
           },
           "zerolinecolor": "white",
           "zerolinewidth": 2
          },
          "yaxis": {
           "automargin": true,
           "gridcolor": "white",
           "linecolor": "white",
           "ticks": "",
           "title": {
            "standoff": 15
           },
           "zerolinecolor": "white",
           "zerolinewidth": 2
          }
         }
        },
        "title": {
         "text": "🛰️ Satellite Risk Levels Around the Globe"
        }
       }
      }
     },
     "metadata": {},
     "output_type": "display_data"
    }
   ],
   "source": [
    "# Step 5: Plot Satellite Subpoints and Risk Levels Using Plotly\n",
    "\n",
    "import plotly.graph_objects as go\n",
    "\n",
    "def plot_satellite_risk_map(df, sample_size=100):\n",
    "    \"\"\"\n",
    "    Plots an interactive map of satellites with color-coded risk levels.\n",
    "    Parameters:\n",
    "        df: DataFrame with satellite 'latitude', 'longitude', 'name', and 'risk_level'\n",
    "        sample_size: Number of satellites to display (for readability)\n",
    "    \"\"\"\n",
    "    # ✅ Subset data for readability\n",
    "    df_sample = df.sample(n=min(sample_size, len(df)), random_state=42)\n",
    "\n",
    "    # Color map for risk levels\n",
    "    color_map = {'Low': 'green', 'Medium': 'orange', 'High': 'red'}\n",
    "    df_sample['color'] = df_sample['risk_level'].map(color_map)\n",
    "\n",
    "    # Create interactive globe plot\n",
    "    fig = go.Figure(go.Scattergeo(\n",
    "        lon = df_sample['longitude'],\n",
    "        lat = df_sample['latitude'],\n",
    "        text = df_sample['name'] + '<br>Risk: ' + df_sample['risk_level'],\n",
    "        mode = 'markers+text',\n",
    "        marker = dict(\n",
    "            size = 6,\n",
    "            color = df_sample['color'],\n",
    "            line = dict(width=0.5, color='black'),\n",
    "            opacity = 0.8\n",
    "        ),\n",
    "        textfont = dict(size=8, color='black'),\n",
    "        textposition = 'top center'\n",
    "    ))\n",
    "\n",
    "    # Set layout for the map\n",
    "    fig.update_layout(\n",
    "        title='🛰️ Satellite Risk Levels Around the Globe',\n",
    "        geo=dict(\n",
    "            projection_type='natural earth',\n",
    "            showland=True,\n",
    "            landcolor='rgb(230, 230, 230)',\n",
    "            showocean=True,\n",
    "            oceancolor='rgb(200, 230, 255)',\n",
    "            coastlinecolor='gray'\n",
    "        ),\n",
    "        margin=dict(l=0, r=0, t=30, b=0)\n",
    "    )\n",
    "\n",
    "    fig.show()\n",
    "\n",
    "# 🔍 Run the visualization\n",
    "plot_satellite_risk_map(df_features, sample_size=50)\n"
   ]
  }
 ],
 "metadata": {
  "kernelspec": {
   "display_name": "interplanix",
   "language": "python",
   "name": "python3"
  },
  "language_info": {
   "codemirror_mode": {
    "name": "ipython",
    "version": 3
   },
   "file_extension": ".py",
   "mimetype": "text/x-python",
   "name": "python",
   "nbconvert_exporter": "python",
   "pygments_lexer": "ipython3",
   "version": "3.12.7"
  }
 },
 "nbformat": 4,
 "nbformat_minor": 5
}
